{
  "nbformat": 4,
  "nbformat_minor": 0,
  "metadata": {
    "colab": {
      "name": "Untitled12.ipynb",
      "provenance": [],
      "authorship_tag": "ABX9TyPuMono8NqeOz6kiyQjfdPh",
      "include_colab_link": true
    },
    "kernelspec": {
      "name": "python3",
      "display_name": "Python 3"
    },
    "language_info": {
      "name": "python"
    }
  },
  "cells": [
    {
      "cell_type": "markdown",
      "metadata": {
        "id": "view-in-github",
        "colab_type": "text"
      },
      "source": [
        "<a href=\"https://colab.research.google.com/github/ckkhandare/svsvddvd/blob/main/Untitled12.ipynb\" target=\"_parent\"><img src=\"https://colab.research.google.com/assets/colab-badge.svg\" alt=\"Open In Colab\"/></a>"
      ]
    },
    {
      "cell_type": "code",
      "metadata": {
        "id": "mHuMtqUa-XPQ"
      },
      "source": [
        ""
      ],
      "execution_count": null,
      "outputs": []
    },
    {
      "cell_type": "markdown",
      "metadata": {
        "id": "3TfsWHkQ-Wun"
      },
      "source": [
        "trial"
      ]
    },
    {
      "cell_type": "markdown",
      "metadata": {
        "id": "2Jl2UTfB-r5k"
      },
      "source": [
        "vd fd "
      ]
    },
    {
      "cell_type": "markdown",
      "metadata": {
        "id": "y5A7e6GT-tFJ"
      },
      "source": [
        "zvsvsd"
      ]
    },
    {
      "cell_type": "code",
      "metadata": {
        "id": "jZko9Okv-S7T"
      },
      "source": [
        ""
      ],
      "execution_count": null,
      "outputs": []
    }
  ]
}
